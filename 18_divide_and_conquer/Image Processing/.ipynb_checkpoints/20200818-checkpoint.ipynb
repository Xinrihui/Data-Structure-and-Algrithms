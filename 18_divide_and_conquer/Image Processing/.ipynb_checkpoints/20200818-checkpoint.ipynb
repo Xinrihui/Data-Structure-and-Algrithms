{
 "cells": [
  {
   "cell_type": "code",
   "execution_count": 1,
   "metadata": {},
   "outputs": [
    {
     "data": {
      "text/plain": [
       "[[(0, 1), (2, 3)], [(0, 2), (1, 3)]]"
      ]
     },
     "execution_count": 1,
     "metadata": {},
     "output_type": "execute_result"
    }
   ],
   "source": [
    "from numpy import *\n",
    "\n",
    "\n",
    "N=4\n",
    "\n",
    "M= int(log2(N))\n",
    "\n",
    "cal_order=[]\n",
    "\n",
    "for level in range(M): # 级别\n",
    "    \n",
    "    cal_level_order=[]\n",
    "    \n",
    "    i=0 \n",
    "    j=0\n",
    "    num=0\n",
    "    flag=[0]*N\n",
    "    \n",
    "    while num< (N//2): # 第 num 个蝶形运算符\n",
    "        \n",
    "        while flag[i]==1: # 该位 被占用\n",
    "            i+=1\n",
    "        \n",
    "        flag[i]=1 # 蝶形运算符的 输入1 的标号为 i\n",
    "        j=i+ (2**level) # 蝶形运算符的 输入2 的标号为 j\n",
    "        \n",
    "        flag[j]=1\n",
    "        \n",
    "        cal_level_order.append((i,j))\n",
    "        \n",
    "        num+=1\n",
    "\n",
    "    cal_order.append(cal_level_order)\n",
    "\n",
    "\n",
    "cal_order          \n",
    "          \n"
   ]
  },
  {
   "cell_type": "code",
   "execution_count": 25,
   "metadata": {},
   "outputs": [
    {
     "data": {
      "text/plain": [
       "(1-0j)"
      ]
     },
     "execution_count": 25,
     "metadata": {},
     "output_type": "execute_result"
    },
    {
     "data": {
      "text/plain": [
       "-1j"
      ]
     },
     "execution_count": 25,
     "metadata": {},
     "output_type": "execute_result"
    },
    {
     "data": {
      "text/plain": [
       "(-1-0j)"
      ]
     },
     "execution_count": 25,
     "metadata": {},
     "output_type": "execute_result"
    },
    {
     "data": {
      "text/plain": [
       "(-0+1j)"
      ]
     },
     "execution_count": 25,
     "metadata": {},
     "output_type": "execute_result"
    },
    {
     "data": {
      "text/plain": [
       "(1+0j)"
      ]
     },
     "execution_count": 25,
     "metadata": {},
     "output_type": "execute_result"
    }
   ],
   "source": [
    "import math\n",
    "\n",
    "def _W(N,B):\n",
    "    \"\"\"\n",
    "    计算 旋转因子\n",
    "\n",
    "    复数的计算\n",
    "\n",
    "\n",
    "    ref: https://www.cnblogs.com/crawer-1/p/8242017.html\n",
    "\n",
    "    :param N: \n",
    "    :param B: \n",
    "    :return: \n",
    "    \"\"\"\n",
    "\n",
    "    mid = -(2 * math.pi/N)*B \n",
    "    \n",
    "    real = math.cos(mid)\n",
    "    \n",
    "    image= math.sin(mid)\n",
    "\n",
    "    return complex(float(\"%0.8f\"%real), float(\"%0.8f\"%image)) # 控制浮点数的精度\n",
    "\n",
    "_W(4,0) # (1-0j)\n",
    "_W(4,1) # -1j\n",
    "_W(4,2) # (-1-0j)\n",
    "_W(4,3) # (-0+1j)\n",
    "_W(4,4) # (1+0j)"
   ]
  },
  {
   "cell_type": "code",
   "execution_count": 28,
   "metadata": {},
   "outputs": [
    {
     "name": "stdout",
     "output_type": "stream",
     "text": [
      "\n",
      "0.0\n",
      "0\n",
      "0.00\n",
      "0.0\n",
      "\n",
      "0.3333333333333333\n",
      "0.333333333333333314829616256247390992939472198486328125\n",
      "0.33\n",
      "0.33\n",
      "\n",
      "0.6666666666666666\n",
      "0.66666666666666662965923251249478198587894439697265625\n",
      "0.67\n",
      "0.67\n",
      "\n",
      "1.0\n",
      "1\n",
      "1.00\n",
      "1.0\n"
     ]
    }
   ],
   "source": [
    "import decimal\n",
    "from decimal import Decimal, getcontext\n",
    "\n",
    "\n",
    "decimal.getcontext().prec = 2\n",
    "for i in range(4):\n",
    "    x = i / 3\n",
    "    print()\n",
    "    print(x)\n",
    "    print(decimal.Decimal(x))\n",
    "    print(\"%0.2f\"%x)\n",
    "    print(float(\"%0.2f\"%x))"
   ]
  },
  {
   "cell_type": "code",
   "execution_count": 30,
   "metadata": {},
   "outputs": [
    {
     "data": {
      "text/plain": [
       "[0, 2]"
      ]
     },
     "execution_count": 30,
     "metadata": {},
     "output_type": "execute_result"
    }
   ],
   "source": [
    "n=4\n",
    "even= [ i  for i in range(n) if i%2==0 ]\n",
    "\n",
    "even"
   ]
  },
  {
   "cell_type": "code",
   "execution_count": 36,
   "metadata": {},
   "outputs": [
    {
     "data": {
      "text/plain": [
       "dtype('int32')"
      ]
     },
     "execution_count": 36,
     "metadata": {},
     "output_type": "execute_result"
    },
    {
     "data": {
      "text/plain": [
       "dtype('int32')"
      ]
     },
     "execution_count": 36,
     "metadata": {},
     "output_type": "execute_result"
    }
   ],
   "source": [
    "a=ones(10,dtype=int)\n",
    "a.dtype  # dtype('int32')\n",
    "\n",
    "b=array([1,2,3])\n",
    "b.dtype # dtype('int32')"
   ]
  }
 ],
 "metadata": {
  "kernelspec": {
   "display_name": "Python 3",
   "language": "python",
   "name": "python3"
  },
  "language_info": {
   "codemirror_mode": {
    "name": "ipython",
    "version": 3
   },
   "file_extension": ".py",
   "mimetype": "text/x-python",
   "name": "python",
   "nbconvert_exporter": "python",
   "pygments_lexer": "ipython3",
   "version": "3.7.3"
  },
  "toc": {
   "base_numbering": 1,
   "nav_menu": {},
   "number_sections": true,
   "sideBar": true,
   "skip_h1_title": false,
   "title_cell": "Table of Contents",
   "title_sidebar": "Contents",
   "toc_cell": false,
   "toc_position": {},
   "toc_section_display": true,
   "toc_window_display": false
  }
 },
 "nbformat": 4,
 "nbformat_minor": 1
}
